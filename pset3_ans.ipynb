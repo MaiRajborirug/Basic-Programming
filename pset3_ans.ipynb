{
 "cells": [
  {
   "cell_type": "markdown",
   "id": "2365b7bb-e63e-427f-8f83-b40b23e6336d",
   "metadata": {},
   "source": [
    "# Problem set 3\n",
    "_Basic Programming 17017002_"
   ]
  },
  {
   "cell_type": "markdown",
   "id": "e245ff5c-1c0f-42ca-a927-18108a17b4de",
   "metadata": {},
   "source": [
    "## Pb 1) Integers to words"
   ]
  },
  {
   "cell_type": "code",
   "execution_count": 2,
   "id": "3905e2a1-763f-4495-89c8-a79964c1499f",
   "metadata": {},
   "outputs": [],
   "source": [
    "# dictionary\n",
    "dict_eng = {\n",
    "    0: 'zero',\n",
    "    1: 'one',\n",
    "    2: 'two',\n",
    "    3: 'three',\n",
    "    4: 'four',\n",
    "    5: 'five',\n",
    "    6: 'six',\n",
    "    7: 'seven',\n",
    "    8: 'eight',\n",
    "    9: 'nine',\n",
    "    10: 'ten',\n",
    "    11: 'eleven',\n",
    "    12: 'twelve',\n",
    "    13: 'thirteen',\n",
    "    14: 'fourteen',\n",
    "    15: 'fifteen',\n",
    "    16: 'sixteen',\n",
    "    17: 'seventeen',\n",
    "    18: 'eighteen',\n",
    "    19: 'nineteen',\n",
    "    20: 'twenty',\n",
    "    30: 'thirty',\n",
    "    40: 'forty',\n",
    "    50: 'fifty',\n",
    "    60: 'sixty',\n",
    "    70: 'seventy',\n",
    "    80: 'eighty',\n",
    "    90: 'ninety',\n",
    "    100: 'hundred',\n",
    "    1000: 'thousand',\n",
    "    1000000: 'million',\n",
    "    1000000000: 'billion',\n",
    "    1000000000000: 'trillion'\n",
    "}"
   ]
  },
  {
   "cell_type": "code",
   "execution_count": null,
   "id": "ef66f91d-527f-4ffa-8ef9-2f70e9e258f1",
   "metadata": {},
   "outputs": [],
   "source": [
    "# copy this dic to the python tutor instead https://pythontutor.com/\n",
    "dict_eng = {0: 'zero', 1: 'one', 2: 'two',3: 'three',4: 'four',5: 'five',6: 'six',7: 'seven',8: 'eight',9: 'nine',10: 'ten',11: 'eleven',12: 'twelve',13: 'thirteen',14: 'fourteen',15: 'fifteen',16: 'sixteen',17: 'seventeen',18: 'eighteen',19: 'nineteen',20: 'twenty',30: 'thirty',40: 'forty',50: 'fifty',60: 'sixty',70: 'seventy',80: 'eighty',90: 'ninety',100: 'hundred',1000: 'thousand',1000000: 'million',1000000000: 'billion',1000000000000: 'trillion'}"
   ]
  },
  {
   "cell_type": "code",
   "execution_count": 3,
   "id": "dbb8fef9-9995-4b2f-afbb-a3b6f5d1de4d",
   "metadata": {},
   "outputs": [],
   "source": [
    "def f_e11(n):\n",
    "    '''\n",
    "    function to read number up to 999\n",
    "    positive n between -999 to 999\n",
    "    '''\n",
    "    read = '' # read result\n",
    "                         \n",
    "    n100 = n // 100  \n",
    "    n11 = n % 100      \n",
    "    n10 = (n // 10) % 10 \n",
    "    n1 = n % 10       \n",
    "    \n",
    "    if n100 > 0:                \n",
    "        read += dict_eng[n100]  \n",
    "        read += '-'            \n",
    "        read += dict_eng[100] \n",
    "        if n11 > 0:\n",
    "            read += ' '    \n",
    "    if n10 >= 2:                \n",
    "        read += dict_eng[n10 * 10]\n",
    "        if n1 != 0:\n",
    "            read += '-'           \n",
    "            read += dict_eng[n1]\n",
    "    else:\n",
    "        if n11 != 0:\n",
    "            read += dict_eng[n11]\n",
    "    return read"
   ]
  },
  {
   "cell_type": "code",
   "execution_count": 3,
   "id": "c9701ab0-8996-4fd4-a16e-2d1879d6dd78",
   "metadata": {},
   "outputs": [],
   "source": [
    "def f_e(n):\n",
    "    # add assert type\n",
    "    assert type(n) == int, \"not `int`\" \n",
    "    assert abs(n) < 10**15, \"out or range\"\n",
    "    read = '' # read result\n",
    "    negative = False\n",
    "    # 1. case (+, 0, -)\n",
    "    if n < 0:\n",
    "        n = -n\n",
    "        negative = True\n",
    "    elif n == 0:\n",
    "        return dict_eng[0]\n",
    "\n",
    "    temp = n\n",
    "    i = 0\n",
    "    while temp != 0:\n",
    "        mod = temp % 1000\n",
    "        temp = temp // 1000\n",
    "        if i != 0 and mod != 0:\n",
    "            read = '-' + dict_eng[10**(3*i)] + ' ' + read\n",
    "        read = f_e11(mod) + read\n",
    "        i += 1\n",
    "        \n",
    "    if negative == True:\n",
    "        read = 'negative ' + read\n",
    "    return read"
   ]
  },
  {
   "cell_type": "code",
   "execution_count": 25,
   "id": "c2d1dd60-f6e7-4071-b423-9c0ef0d62d4e",
   "metadata": {},
   "outputs": [],
   "source": [
    "def f_e(n):\n",
    "    # add assert cases\n",
    "    pass # delete pass and add the rest of the code"
   ]
  },
  {
   "cell_type": "markdown",
   "id": "20ac3e79-ed84-465e-8a7e-658bf4ca9054",
   "metadata": {},
   "source": [
    "### Test Cases"
   ]
  },
  {
   "cell_type": "code",
   "execution_count": 4,
   "id": "a7ba9cbf-a330-4b56-aa3e-321758013bf4",
   "metadata": {},
   "outputs": [
    {
     "name": "stdout",
     "output_type": "stream",
     "text": [
      "zero\n",
      "nine\n",
      "negative ten\n",
      "thirteen\n",
      "seventeen\n",
      "negative twenty\n",
      "fifty-five\n",
      "ninety-one\n",
      "ninety-five\n",
      "negative ninety-nine\n"
     ]
    }
   ],
   "source": [
    "print(f_e(-0))\n",
    "print(f_e(9))\n",
    "print(f_e(-10))\n",
    "print(f_e(13))\n",
    "print(f_e(17))\n",
    "print(f_e(-20))\n",
    "print(f_e(55))\n",
    "print(f_e(91))\n",
    "print(f_e(95))\n",
    "print(f_e(-99))"
   ]
  },
  {
   "cell_type": "code",
   "execution_count": 5,
   "id": "191db000-c46b-4fd7-9178-8c02d44afe0a",
   "metadata": {},
   "outputs": [
    {
     "name": "stdout",
     "output_type": "stream",
     "text": [
      "one-hundred\n",
      "one-hundred five\n",
      "one-hundred sixteen\n",
      "two-hundred three\n",
      "two-hundred ten\n",
      "negative five-hundred one\n",
      "six-hundred ten\n",
      "seven-hundred eighteen\n",
      "negative eight-hundred seventy-four\n",
      "nine-hundred ninety-nine\n"
     ]
    }
   ],
   "source": [
    "print(f_e(100))\n",
    "print(f_e(105))\n",
    "print(f_e(116))\n",
    "print(f_e(203))\n",
    "print(f_e(210))\n",
    "print(f_e(-501))\n",
    "print(f_e(610))\n",
    "print(f_e(718))\n",
    "print(f_e(-874))\n",
    "print(f_e(999))"
   ]
  },
  {
   "cell_type": "code",
   "execution_count": 6,
   "id": "6fc161b8-3c8d-490c-a5d3-bb0b57d8aa3c",
   "metadata": {},
   "outputs": [
    {
     "name": "stdout",
     "output_type": "stream",
     "text": [
      "negative one-thousand \n",
      "negative one-thousand nine-hundred ninety-nine\n",
      "twenty-one-thousand \n",
      "twenty-two-thousand three\n",
      "negative ninety-thousand \n",
      "negative ninety-nine-thousand seven\n",
      "one-hundred-thousand \n",
      "two-hundred-thousand two-hundred\n",
      "two-hundred twelve-thousand two-hundred\n",
      "negative nine-hundred eighty-thousand forty-one\n"
     ]
    }
   ],
   "source": [
    "print(f_e(-1000))\n",
    "print(f_e(-1999))\n",
    "print(f_e(21000))\n",
    "print(f_e(22003))\n",
    "print(f_e(-90000))\n",
    "print(f_e(-99007))\n",
    "print(f_e(100000))\n",
    "print(f_e(200200))\n",
    "print(f_e(212200))\n",
    "print(f_e(-980041))"
   ]
  },
  {
   "cell_type": "code",
   "execution_count": 7,
   "id": "85ffb182-4798-438b-9ee8-b98f5741a087",
   "metadata": {},
   "outputs": [
    {
     "name": "stdout",
     "output_type": "stream",
     "text": [
      "negative five-million one-hundred-thousand twenty-one\n",
      "negative thirteen-million \n",
      "nine-hundred eighty-seven-million six-hundred fifty-four-thousand three-hundred twenty-one\n",
      "eleven-billion two-hundred-million one-hundred\n",
      "five-hundred-billion one-hundred-million \n",
      "negative two-trillion six-billion four-hundred-thousand \n",
      "negative seventeen-trillion five-hundred\n",
      "five-hundred-trillion one-billion five-thousand \n",
      "nine-hundred ninety-nine-trillion nine-hundred ninety-nine-billion \n",
      "negative nine-hundred ninety-nine-trillion nine-hundred ninety-nine-billion \n"
     ]
    }
   ],
   "source": [
    "print(f_e(-5100021))\n",
    "print(f_e(-13000000))\n",
    "print(f_e(987654321))\n",
    "print(f_e(11200000100))\n",
    "print(f_e(500100000000))\n",
    "print(f_e(-2006000400000))\n",
    "print(f_e(-17000000000500))\n",
    "print(f_e(500001000005000))\n",
    "print(f_e(999999000000000))\n",
    "print(f_e(-999999000000000))"
   ]
  },
  {
   "cell_type": "code",
   "execution_count": 8,
   "id": "d0dc58b0-66bb-44ec-8663-a0b3f77e3631",
   "metadata": {},
   "outputs": [
    {
     "ename": "AssertionError",
     "evalue": "out or range",
     "output_type": "error",
     "traceback": [
      "\u001b[1;31m---------------------------------------------------------------------------\u001b[0m",
      "\u001b[1;31mAssertionError\u001b[0m                            Traceback (most recent call last)",
      "\u001b[1;32m~\\AppData\\Local\\Temp/ipykernel_21144/3581899382.py\u001b[0m in \u001b[0;36m<module>\u001b[1;34m\u001b[0m\n\u001b[1;32m----> 1\u001b[1;33m \u001b[0mprint\u001b[0m\u001b[1;33m(\u001b[0m\u001b[0mf_e\u001b[0m\u001b[1;33m(\u001b[0m\u001b[1;36m1000000000000000\u001b[0m\u001b[1;33m)\u001b[0m\u001b[1;33m)\u001b[0m\u001b[1;33m\u001b[0m\u001b[1;33m\u001b[0m\u001b[0m\n\u001b[0m",
      "\u001b[1;32m~\\AppData\\Local\\Temp/ipykernel_21144/2605195344.py\u001b[0m in \u001b[0;36mf_e\u001b[1;34m(n)\u001b[0m\n\u001b[0;32m      2\u001b[0m     \u001b[1;31m# add assert type\u001b[0m\u001b[1;33m\u001b[0m\u001b[1;33m\u001b[0m\u001b[0m\n\u001b[0;32m      3\u001b[0m     \u001b[1;32massert\u001b[0m \u001b[0mtype\u001b[0m\u001b[1;33m(\u001b[0m\u001b[0mn\u001b[0m\u001b[1;33m)\u001b[0m \u001b[1;33m==\u001b[0m \u001b[0mint\u001b[0m\u001b[1;33m,\u001b[0m \u001b[1;34m\"not `int`\"\u001b[0m\u001b[1;33m\u001b[0m\u001b[1;33m\u001b[0m\u001b[0m\n\u001b[1;32m----> 4\u001b[1;33m     \u001b[1;32massert\u001b[0m \u001b[0mabs\u001b[0m\u001b[1;33m(\u001b[0m\u001b[0mn\u001b[0m\u001b[1;33m)\u001b[0m \u001b[1;33m<\u001b[0m \u001b[1;36m10\u001b[0m\u001b[1;33m**\u001b[0m\u001b[1;36m15\u001b[0m\u001b[1;33m,\u001b[0m \u001b[1;34m\"out or range\"\u001b[0m\u001b[1;33m\u001b[0m\u001b[1;33m\u001b[0m\u001b[0m\n\u001b[0m\u001b[0;32m      5\u001b[0m     \u001b[0mread\u001b[0m \u001b[1;33m=\u001b[0m \u001b[1;34m''\u001b[0m \u001b[1;31m# read result\u001b[0m\u001b[1;33m\u001b[0m\u001b[1;33m\u001b[0m\u001b[0m\n\u001b[0;32m      6\u001b[0m     \u001b[0mnegative\u001b[0m \u001b[1;33m=\u001b[0m \u001b[1;32mFalse\u001b[0m\u001b[1;33m\u001b[0m\u001b[1;33m\u001b[0m\u001b[0m\n",
      "\u001b[1;31mAssertionError\u001b[0m: out or range"
     ]
    }
   ],
   "source": [
    "print(f_e(1000000000000000))"
   ]
  },
  {
   "cell_type": "code",
   "execution_count": 9,
   "id": "aa8939ce-2797-419c-9313-ea647c8d6927",
   "metadata": {},
   "outputs": [
    {
     "ename": "AssertionError",
     "evalue": "not `int`",
     "output_type": "error",
     "traceback": [
      "\u001b[1;31m---------------------------------------------------------------------------\u001b[0m",
      "\u001b[1;31mAssertionError\u001b[0m                            Traceback (most recent call last)",
      "\u001b[1;32m~\\AppData\\Local\\Temp/ipykernel_21144/2493790449.py\u001b[0m in \u001b[0;36m<module>\u001b[1;34m\u001b[0m\n\u001b[1;32m----> 1\u001b[1;33m \u001b[0mprint\u001b[0m\u001b[1;33m(\u001b[0m\u001b[0mf_e\u001b[0m\u001b[1;33m(\u001b[0m\u001b[1;33m-\u001b[0m\u001b[1;36m0.0\u001b[0m\u001b[1;33m)\u001b[0m\u001b[1;33m)\u001b[0m\u001b[1;33m\u001b[0m\u001b[1;33m\u001b[0m\u001b[0m\n\u001b[0m",
      "\u001b[1;32m~\\AppData\\Local\\Temp/ipykernel_21144/2605195344.py\u001b[0m in \u001b[0;36mf_e\u001b[1;34m(n)\u001b[0m\n\u001b[0;32m      1\u001b[0m \u001b[1;32mdef\u001b[0m \u001b[0mf_e\u001b[0m\u001b[1;33m(\u001b[0m\u001b[0mn\u001b[0m\u001b[1;33m)\u001b[0m\u001b[1;33m:\u001b[0m\u001b[1;33m\u001b[0m\u001b[1;33m\u001b[0m\u001b[0m\n\u001b[0;32m      2\u001b[0m     \u001b[1;31m# add assert type\u001b[0m\u001b[1;33m\u001b[0m\u001b[1;33m\u001b[0m\u001b[0m\n\u001b[1;32m----> 3\u001b[1;33m     \u001b[1;32massert\u001b[0m \u001b[0mtype\u001b[0m\u001b[1;33m(\u001b[0m\u001b[0mn\u001b[0m\u001b[1;33m)\u001b[0m \u001b[1;33m==\u001b[0m \u001b[0mint\u001b[0m\u001b[1;33m,\u001b[0m \u001b[1;34m\"not `int`\"\u001b[0m\u001b[1;33m\u001b[0m\u001b[1;33m\u001b[0m\u001b[0m\n\u001b[0m\u001b[0;32m      4\u001b[0m     \u001b[1;32massert\u001b[0m \u001b[0mabs\u001b[0m\u001b[1;33m(\u001b[0m\u001b[0mn\u001b[0m\u001b[1;33m)\u001b[0m \u001b[1;33m<\u001b[0m \u001b[1;36m10\u001b[0m\u001b[1;33m**\u001b[0m\u001b[1;36m15\u001b[0m\u001b[1;33m,\u001b[0m \u001b[1;34m\"out or range\"\u001b[0m\u001b[1;33m\u001b[0m\u001b[1;33m\u001b[0m\u001b[0m\n\u001b[0;32m      5\u001b[0m     \u001b[0mread\u001b[0m \u001b[1;33m=\u001b[0m \u001b[1;34m''\u001b[0m \u001b[1;31m# read result\u001b[0m\u001b[1;33m\u001b[0m\u001b[1;33m\u001b[0m\u001b[0m\n",
      "\u001b[1;31mAssertionError\u001b[0m: not `int`"
     ]
    }
   ],
   "source": [
    "print(f_e(-0.0))"
   ]
  }
 ],
 "metadata": {
  "kernelspec": {
   "display_name": "Python 3 (ipykernel)",
   "language": "python",
   "name": "python3"
  },
  "language_info": {
   "codemirror_mode": {
    "name": "ipython",
    "version": 3
   },
   "file_extension": ".py",
   "mimetype": "text/x-python",
   "name": "python",
   "nbconvert_exporter": "python",
   "pygments_lexer": "ipython3",
   "version": "3.9.7"
  }
 },
 "nbformat": 4,
 "nbformat_minor": 5
}
